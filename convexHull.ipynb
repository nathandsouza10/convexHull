{
 "cells": [
  {
   "cell_type": "markdown",
   "metadata": {},
   "source": [
    "# Investigating algorithms that can be used to compute Convex Hull\n"
   ]
  },
  {
   "cell_type": "markdown",
   "metadata": {},
   "source": [
    "#### Import statements"
   ]
  },
  {
   "cell_type": "code",
   "execution_count": 58,
   "metadata": {},
   "outputs": [],
   "source": [
    "import math\n",
    "import random\n",
    "import time\n",
    "import numpy as np\n",
    "import matplotlib.pyplot as plt"
   ]
  },
  {
   "cell_type": "markdown",
   "metadata": {},
   "source": [
    "# Graham Scan algorithm"
   ]
  },
  {
   "cell_type": "code",
   "execution_count": 59,
   "metadata": {},
   "outputs": [],
   "source": [
    "def polarAngle(p0, p1 = None):\n",
    "    if p1 == None:\n",
    "        p1 = llmPoint\n",
    "    dy = p0[1] - p1[1]\n",
    "    dx = p0[0] - p1[0]\n",
    "    return math.atan2(dy, dx)\n",
    "\n",
    "\n",
    "def distance(p0, p1 = None):\n",
    "    if p1 == None:\n",
    "        p1 = llmPoint\n",
    "    dy = p0[1] - p1[1]\n",
    "    dx = p0[0] - p1[0]\n",
    "    return dy ** 2 + dx ** 2\n",
    "\n",
    "\n",
    "def determinant(p1, p2, p3):\n",
    "    return (p2[0] - p1[0]) * (p3[1] - p1[1]) - (p2[1] - p1[1]) * (p3[0] - p1[0])\n",
    "\n",
    "def swap(arr, i, j):       \n",
    "    arr[i], arr[j] = arr[j], arr[i] \n",
    "    return arr\n",
    "\n",
    "def partition(arr,l,h):\n",
    "    i = l - 1\n",
    "    x = arr[h]\n",
    "    for j in range(l,h):\n",
    "        if polarAngle(arr[j]) <= polarAngle(x):\n",
    "            i += 1\n",
    "            arr = swap(arr,i,j)\n",
    "    arr = swap(arr,i+1,h)\n",
    "    return i + 1\n",
    "\n",
    "def quickSort(arr,l,h):\n",
    "    sortedPoints = []\n",
    "    sortedPoints.append(l)\n",
    "    sortedPoints.append(h)\n",
    " \n",
    "    while len(sortedPoints) > 0:\n",
    " \n",
    "        h = sortedPoints.pop()\n",
    "        l = sortedPoints.pop()\n",
    "        p = partition(arr,l,h)\n",
    "         \n",
    "        if p-1 > l:\n",
    "            sortedPoints.append(l)\n",
    "            sortedPoints.append(p-1)\n",
    "            \n",
    "        if p+1 < h:\n",
    "            sortedPoints.append(p+1)\n",
    "            sortedPoints.append(h)\n",
    "\n",
    "def LowestLeftMost(inputSet):\n",
    "    MIN = 0\n",
    "    for i in range(0, len(inputSet)):\n",
    "        if inputSet[i][1] < inputSet[MIN][1]:\n",
    "            MIN = i\n",
    "        if inputSet[i][1] == inputSet[MIN][1]:\n",
    "            if inputSet[i][0] < inputSet[MIN][0]:\n",
    "                MIN = i     \n",
    "    return inputSet[MIN]\n",
    "\n",
    "def grahamscan(inputSet):\n",
    "    global llmPoint\n",
    "    llmPoint = LowestLeftMost(inputSet)\n",
    "    quickSort(inputSet,0,len(inputSet)-1)\n",
    "    sortedPoints = inputSet\n",
    "\n",
    "    outputSet = [llmPoint, sortedPoints[0]]\n",
    "    for s in sortedPoints[1:]:\n",
    "        while determinant(outputSet[-2], outputSet[-1], s) <= 0:\n",
    "            outputSet.pop()\n",
    "            if len(outputSet) < 2: \n",
    "                break\n",
    "        outputSet.append(s)\n",
    "    return outputSet"
   ]
  },
  {
   "cell_type": "code",
   "execution_count": 120,
   "metadata": {},
   "outputs": [
    {
     "data": {
      "image/png": "[encoded data removed]",
      "text/plain": [
       "<Figure size 432x288 with 1 Axes>"
      ]
     },
     "metadata": {
      "needs_background": "light"
     },
     "output_type": "display_data"
    }
   ],
   "source": [
    "n = [x for x in range(10,200, 10)]\n",
    "times = []\n",
    "for points in n:\n",
    "    total_time = 0\n",
    "    for i in range(0, 20):\n",
    "        start = time.time()\n",
    "        grahamscan(np.random.random(size=(points,2)).tolist())\n",
    "        total_time += time.time() - start\n",
    "    times.append(total_time / 20)\n",
    "\n",
    "plt.scatter(n, times)\n",
    "plt.show()"
   ]
  },
  {
   "cell_type": "markdown",
   "metadata": {},
   "source": [
    "# Jarvis March algorithm"
   ]
  },
  {
   "cell_type": "code",
   "execution_count": 4,
   "metadata": {},
   "outputs": [],
   "source": [
    "def direction(p,q,r):\n",
    "    #finds the 2D determinant between three points\n",
    "    val = (q[1] - p[1]) * (r[0] - q[0]) - (q[0] - p[0]) * (r[1] - q[1])\n",
    "    #all points lie on a straight line\n",
    "    if val == 0:\n",
    "        return 0\n",
    "    elif val > 0:\n",
    "        return 1\n",
    "    else:\n",
    "        return -1\n",
    "\n",
    "def getLeftIndex(points):\n",
    "    MIN = 0\n",
    "    for i in range(1, len(points)):\n",
    "        #finds the point with the lowest x coordinate\n",
    "        if points[i][0] < points[MIN][0]:\n",
    "            MIN = i\n",
    "    return MIN\n",
    "\n",
    "\n",
    "def jarvismarch(inputSet):\n",
    "    n = len(inputSet)\n",
    "    #A convex hull must have at least three points\n",
    "    if n < 3:\n",
    "        return\n",
    "    \n",
    "    outputSet = []\n",
    "    l = getLeftIndex(inputSet)\n",
    "    #p holds current point index\n",
    "    p = l\n",
    "    #q holds the most anticlockwise point made with the current point\n",
    "    q = 0 \n",
    "    while True:\n",
    "        outputSet.append(inputSet[p])\n",
    "        #by default the most anitclockwise point will be the next point after the current point\n",
    "        q = (p + 1) % n \n",
    "        \n",
    "        for i in range(0,n):\n",
    "            if direction(inputSet[p],inputSet[i],inputSet[q]) == -1:\n",
    "                # when a more anticlockwise point has been found\n",
    "                # the most anticlokwise point must be updated\n",
    "                q = i\n",
    "        #once all comparisons have been made for the current point\n",
    "        #the anticlockwise point is now the current point\n",
    "        p = q\n",
    "        #once the current point loops back to the left most point then it exits the loop\n",
    "        if p == l:\n",
    "            break\n",
    "    \n",
    "    return outputSet"
   ]
  },
  {
   "cell_type": "code",
   "execution_count": 125,
   "metadata": {},
   "outputs": [
    {
     "data": {
      "image/png": "[encoded data removed]",
      "text/plain": [
       "<Figure size 432x288 with 1 Axes>"
      ]
     },
     "metadata": {
      "needs_background": "light"
     },
     "output_type": "display_data"
    }
   ],
   "source": [
    "n = [x for x in range(10,200, 10)]\n",
    "times = []\n",
    "for points in n:\n",
    "    total_time = 0\n",
    "    for i in range(0, 20):\n",
    "        start = time.time()\n",
    "        jarvismarch(np.random.random(size=(points,2)).tolist())\n",
    "        total_time += time.time() - start\n",
    "    times.append(total_time / 20)\n",
    "\n",
    "plt.scatter(n, times)\n",
    "plt.show()"
   ]
  },
  {
   "cell_type": "markdown",
   "metadata": {},
   "source": [
    "# Extended Graham-scan. Optimised with the Akl-Toussaint heuristic"
   ]
  },
  {
   "cell_type": "code",
   "execution_count": 126,
   "metadata": {},
   "outputs": [],
   "source": [
    "global averageCase\n",
    "averageCase = True\n",
    "\n",
    "\n",
    "def polarAngle(p0, p1 = None):\n",
    "    if p1 == None:\n",
    "        p1 = llmPoint\n",
    "    dy = p0[1] - p1[1]\n",
    "    dx = p0[0] - p1[0]\n",
    "    return math.atan2(dy, dx)\n",
    "\n",
    "\n",
    "def distance(p0, p1 = None):\n",
    "    if p1 == None:\n",
    "        p1 = llmPoint\n",
    "    dy = p0[1] - p1[1]\n",
    "    dx = p0[0] - p1[0]\n",
    "    return dy ** 2 + dx ** 2\n",
    "\n",
    "\n",
    "def determinant(p1, p2, p3):\n",
    "    return (p2[0] - p1[0]) * (p3[1] - p1[1]) - (p2[1] - p1[1]) * (p3[0] - p1[0])  \n",
    "        \n",
    "\n",
    "\n",
    "def insertionSort(list1, left, right): \n",
    "    for i in range(left + 1, right + 1): \n",
    "        j = i \n",
    "        while j > left and polarAngle(list1[j]) < polarAngle(list1[j - 1]): \n",
    "            list1[j], list1[j - 1] = list1[j - 1], list1[j] \n",
    "            j -= 1\n",
    "            \n",
    "def merge(list1, leftIndex, middleIndex, rightIndex): \n",
    "    n1 =  middleIndex - leftIndex + 1\n",
    "    n2 = rightIndex - middleIndex\n",
    "    left, right = [], [] \n",
    "    for i in range(0, n1): \n",
    "        left.append(list1[leftIndex + i]) \n",
    "    for i in range(0, n2): \n",
    "        right.append(list1[middleIndex + 1 + i]) \n",
    "    i = 0\n",
    "    j = 0\n",
    "    k = leftIndex\n",
    "    while i < n1 and j < n2: \n",
    "        if polarAngle(left[i]) <= polarAngle(right[j]): \n",
    "            list1[k] = left[i] \n",
    "            i += 1\n",
    "        else: \n",
    "            list1[k] = right[j] \n",
    "            j += 1\n",
    "        k += 1\n",
    "    while i < n1: \n",
    "        list1[k] = left[i] \n",
    "        k += 1\n",
    "        i += 1\n",
    "    while j < n2: \n",
    "        list1[k] = right[j] \n",
    "        k += 1\n",
    "        j += 1\n",
    "\n",
    "def timSort(list1): \n",
    "    MIN_RUN = 32\n",
    "    for start in range(0, len(list1), MIN_RUN): \n",
    "        end = min(start + MIN_RUN - 1, len(list1) - 1) \n",
    "        insertionSort(list1, start, end) \n",
    "    size = MIN_RUN\n",
    "    while size < len(list1) : \n",
    "        for left in range(0, len(list1), size * 2): \n",
    "            middle = min(len(list1) - 1, left + size - 1) \n",
    "            right = min((left + size * 2 - 1), (len(list1) - 1)) \n",
    "  \n",
    "            merge(list1, left, middle, right)\n",
    "        size *= 2  \n",
    "\n",
    "def inQuad(l, t, r, b, p):\n",
    "    if determinant(l, t, p) < 0  and determinant(t, r, p) < 0 and determinant(r, b, p) < 0 and determinant(b, l, p) < 0:\n",
    "        return True\n",
    "    return False\n",
    "\n",
    "def akl_toussaint(inputSet):\n",
    "    #collects the four boundary points on the hull from the map of points\n",
    "    #most right point\n",
    "    xmax = max(inputSet, key=lambda p: p[0])\n",
    "    #most left point\n",
    "    xmin = min(inputSet, key=lambda p: p[0])\n",
    "    #top point\n",
    "    ymax = max(inputSet, key=lambda p: p[1])\n",
    "    #bottom point\n",
    "    ymin = min(inputSet, key=lambda p: p[1])    \n",
    "    \n",
    "    newSet = []\n",
    "    \n",
    "    for point in inputSet:\n",
    "        #only adds points outside of the convex quadrilateral\n",
    "        if not inQuad(xmin, ymax, xmax, ymin, point):\n",
    "            newSet.append(point)\n",
    "    return newSet\n",
    "\n",
    "#finds the bottom left point\n",
    "def LowestLeftMost(inputSet):\n",
    "    MIN = 0\n",
    "    for i in range(0, len(inputSet)):\n",
    "        #first finds the lowest point in the input set\n",
    "        if inputSet[i][1] < inputSet[MIN][1]:\n",
    "            MIN = i\n",
    "        # when two points have the same y coordinate\n",
    "        #we must compare x coordinates and the one with the lowest x coordinate is the minimum point\n",
    "        if inputSet[i][1] == inputSet[MIN][1]:\n",
    "            if inputSet[i][0] < inputSet[MIN][0]:\n",
    "                MIN = i     \n",
    "    return inputSet[MIN]\n",
    "\n",
    "def extendedgrahamscan(inputSet):\n",
    "    global llmPoint\n",
    "    if averageCase == True:\n",
    "        inputSet = akl_toussaint(inputSet)\n",
    "    llmPoint = LowestLeftMost(inputSet)\n",
    "    #sort the list of points based on polar angle\n",
    "    timSort(inputSet)\n",
    "    sortedPoints = inputSet\n",
    "    #the hull must have the lowest leftmost point\n",
    "    #sortedPoints[0] is used to make an initial comparison later on\n",
    "    outputSet = [llmPoint, sortedPoints[0]]\n",
    "    for s in sortedPoints[1:]:\n",
    "        #when the orientation is clockwise or the points are co-linear it should pop the last item from the stack\n",
    "        while determinant(outputSet[-2], outputSet[-1], s) <= 0 :\n",
    "            outputSet.pop()\n",
    "            if len(outputSet) < 2: #Check to make sure llm point is not deleted\n",
    "                break\n",
    "        outputSet.append(s)\n",
    "    return outputSet\n"
   ]
  },
  {
   "cell_type": "code",
   "execution_count": 127,
   "metadata": {},
   "outputs": [
    {
     "data": {
      "image/png": "[encoded data removed]",
      "text/plain": [
       "<Figure size 432x288 with 1 Axes>"
      ]
     },
     "metadata": {
      "needs_background": "light"
     },
     "output_type": "display_data"
    }
   ],
   "source": [
    "n = [x for x in range(10,200, 10)]\n",
    "times = []\n",
    "for points in n:\n",
    "    total_time = 0\n",
    "    for i in range(0, 20):\n",
    "        start = time.time()\n",
    "        extendedgrahamscan(np.random.random(size=(points,2)).tolist())\n",
    "        total_time += time.time() - start\n",
    "    times.append(total_time / 20)\n",
    "\n",
    "plt.scatter(n, times)\n",
    "plt.show()"
   ]
  },
  {
   "cell_type": "code",
   "execution_count": 128,
   "metadata": {
    "scrolled": true
   },
   "outputs": [
    {
     "data": {
      "image/png": "[encoded data removed]",
      "text/plain": [
       "<Figure size 432x288 with 3 Axes>"
      ]
     },
     "metadata": {
      "needs_background": "light"
     },
     "output_type": "display_data"
    }
   ],
   "source": [
    "def generateRandomInputSet(N):\n",
    "    inputSet = []\n",
    "    for i in range(0, N):\n",
    "        x = random.randint(-100, 100)\n",
    "        y = random.randint(-100, 100)\n",
    "        inputSet.append([x, y])\n",
    "    return inputSet\n",
    "\n",
    "n = 30\n",
    "inputSet = generateRandomInputSet(n)\n",
    "outputGraham = grahamscan(inputSet)\n",
    "outputJarvis = jarvismarch(inputSet)\n",
    "outputExtendedGraham = extendedgrahamscan(inputSet)\n",
    "\n",
    "\n",
    "input_xs, input_ys = zip(*inputSet)\n",
    "\n",
    "plt.subplot(1,3,1)\n",
    "plt.scatter(input_xs,input_ys)\n",
    "outputGraham.append(outputGraham[0])\n",
    "output_xs, output_ys = zip(*outputGraham) \n",
    "plt.plot(output_xs,output_ys)\n",
    "plt.title(\"Graham Scan algorithm\")\n",
    "plt.subplot(1,3,2)\n",
    "plt.scatter(input_xs,input_ys)\n",
    "outputJarvis.append(outputJarvis[0])\n",
    "output_xs, output_ys = zip(*outputJarvis) \n",
    "plt.plot(output_xs,output_ys,color='orange')\n",
    "plt.title(\"Jarvis march algorithm\")\n",
    "\n",
    "plt.subplot(1,3,3)\n",
    "plt.scatter(input_xs,input_ys)\n",
    "outputExtendedGraham.append(outputExtendedGraham[0])\n",
    "output_xs, output_ys = zip(*outputExtendedGraham) \n",
    "plt.plot(output_xs,output_ys,color='green')\n",
    "plt.title(\"Akl Toussaint heuristic algorithm\")\n",
    "plt.show()\n"
   ]
  }
 ],
 "metadata": {
  "kernelspec": {
   "display_name": "Python 3 (ipykernel)",
   "language": "python",
   "name": "python3"
  },
  "language_info": {
   "codemirror_mode": {
    "name": "ipython",
    "version": 3
   },
   "file_extension": ".py",
   "mimetype": "text/x-python",
   "name": "python",
   "nbconvert_exporter": "python",
   "pygments_lexer": "ipython3",
   "version": "3.9.13"
  }
 },
 "nbformat": 4,
 "nbformat_minor": 4
}
